{
 "cells": [
  {
   "cell_type": "code",
   "execution_count": null,
   "id": "fd5f0ea6",
   "metadata": {},
   "outputs": [],
   "source": [
    "import sys\n",
    "import os\n",
    "sys.path.append(os.path.abspath(os.path.join(os.getcwd(), '..')))\n",
    "import importlib\n",
    "import src.evaluate\n",
    "importlib.reload(src.evaluate)\n",
    "from src.evaluate import evaluate\n",
    "from src.feature_extraction import extract_features\n",
    "import pandas as pd\n",
    "import joblib\n",
    "from sklearn.metrics import roc_curve, auc\n",
    "import matplotlib.pyplot as plt\n",
    "from sklearn.model_selection import train_test_split\n",
    "\n",
    "# Run evaluation\n",
    "evaluate()\n",
    "\n",
    "# ROC Curve\n",
    "data = pd.read_csv('../data/processed/processed_data.csv')\n",
    "X = data['text']\n",
    "y = data['label']\n",
    "_, X_test, _, y_test = train_test_split(X, y, test_size=0.2, random_state=42)\n",
    "# Use absolute paths for model and vectorizer\n",
    "root_dir = os.path.dirname(os.path.dirname(os.path.abspath(os.getcwd())))\n",
    "models_dir = os.path.join(root_dir, 'models')\n",
    "model = joblib.load(os.path.join(models_dir, 'saved_model.pkl'))\n",
    "vectorizer = joblib.load(os.path.join(models_dir, 'vectorizer.pkl'))\n",
    "X_test_vec = extract_features(X_test, vectorizer, fit=False)\n",
    "y_scores = model.predict_proba(X_test_vec)[:, 1]\n",
    "fpr, tpr, _ = roc_curve(y_test, y_scores)\n",
    "roc_auc = auc(fpr, tpr)\n",
    "\n",
    "plt.figure(figsize=(8, 6))\n",
    "plt.plot(fpr, tpr, label=f'ROC curve (AUC = {roc_auc:.2f})')\n",
    "plt.plot([0, 1], [0, 1], 'k--')\n",
    "plt.xlabel('False Positive Rate')\n",
    "plt.ylabel('True Positive Rate')\n",
    "plt.title('ROC Curve')\n",
    "plt.legend(loc='lower right')\n",
    "plt.savefig('../reports/figures/roc_curve.png')\n",
    "plt.show()"
   ]
  }
 ],
 "metadata": {
  "kernelspec": {
   "display_name": ".venv",
   "language": "python",
   "name": "python3"
  },
  "language_info": {
   "codemirror_mode": {
    "name": "ipython",
    "version": 3
   },
   "file_extension": ".py",
   "mimetype": "text/x-python",
   "name": "python",
   "nbconvert_exporter": "python",
   "pygments_lexer": "ipython3",
   "version": "3.13.5"
  }
 },
 "nbformat": 4,
 "nbformat_minor": 5
}
