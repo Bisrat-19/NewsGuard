{
 "cells": [
  {
   "cell_type": "code",
   "execution_count": null,
   "id": "fd5f0ea6",
   "metadata": {},
   "outputs": [],
   "source": [
    "from src.evaluate import evaluate\n",
    "import pandas as pd\n",
    "import joblib\n",
    "from sklearn.metrics import roc_curve, auc\n",
    "import matplotlib.pyplot as plt\n",
    "from src.feature_extraction import extract_features\n",
    "from sklearn.model_selection import train_test_split\n",
    "\n",
    "# Run evaluation\n",
    "evaluate()\n",
    "\n",
    "# ROC Curve\n",
    "data = pd.read_csv('../data/processed/processed_data.csv')\n",
    "X = data['text']\n",
    "y = data['label']\n",
    "_, X_test, _, y_test = train_test_split(X, y, test_size=0.2, random_state=42)\n",
    "model = joblib.load('../models/saved_model.pkl')\n",
    "vectorizer = joblib.load('../models/vectorizer.pkl')\n",
    "X_test_vec = extract_features(X_test, vectorizer, fit=False)\n",
    "y_scores = model.predict_proba(X_test_vec)[:, 1]\n",
    "fpr, tpr, _ = roc_curve(y_test, y_scores)\n",
    "roc_auc = auc(fpr, tpr)\n",
    "\n",
    "plt.figure(figsize=(8, 6))\n",
    "plt.plot(fpr, tpr, label=f'ROC curve (AUC = {roc_auc:.2f})')\n",
    "plt.plot([0, 1], [0, 1], 'k--')\n",
    "plt.xlabel('False Positive Rate')\n",
    "plt.ylabel('True Positive Rate')\n",
    "plt.title('ROC Curve')\n",
    "plt.legend(loc='lower right')\n",
    "plt.savefig('../reports/figures/roc_curve.png')\n",
    "plt.show()"
   ]
  }
 ],
 "metadata": {
  "language_info": {
   "name": "python"
  }
 },
 "nbformat": 4,
 "nbformat_minor": 5
}
