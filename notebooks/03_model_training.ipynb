{
 "cells": [
  {
   "cell_type": "code",
   "execution_count": null,
   "id": "516c60c3",
   "metadata": {},
   "outputs": [],
   "source": [
    "import sys\n",
    "import os\n",
    "sys.path.append(os.path.abspath(os.path.join(os.pardir)))\n",
    "\n",
    "from src.train import train\n",
    "\n",
    "# Train the model and save to models/\n",
    "train()\n",
    "\n",
    "# Optional: Try other models\n",
    "from sklearn.ensemble import RandomForestClassifier\n",
    "from sklearn.model_selection import train_test_split\n",
    "from sklearn.feature_extraction.text import TfidfVectorizer\n",
    "import pandas as pd\n",
    "import joblib\n",
    "\n",
    "data = pd.read_csv('../data/processed/processed_data.csv')\n",
    "# Drop or fill NaN values in 'text' column to avoid ValueError\n",
    "data = data.dropna(subset=['text'])\n",
    "# Alternatively, to fill NaN: data['text'] = data['text'].fillna('')\n",
    "X = data['text']\n",
    "y = data['label']\n",
    "X_train, X_test, y_train, y_test = train_test_split(X, y, test_size=0.2, random_state=42)\n",
    "vectorizer = TfidfVectorizer(max_features=5000)\n",
    "X_train_vec = vectorizer.fit_transform(X_train)\n",
    "rf_model = RandomForestClassifier(n_estimators=100, random_state=42)\n",
    "rf_model.fit(X_train_vec, y_train)\n",
    "X_test_vec = vectorizer.transform(X_test)\n",
    "print(\"Random Forest Test Accuracy:\", rf_model.score(X_test_vec, y_test))\n",
    "# Use absolute path for models directory\n",
    "root_dir = os.path.dirname(os.path.dirname(os.path.abspath(os.getcwd())))\n",
    "models_dir = os.path.join(root_dir, 'models')\n",
    "os.makedirs(models_dir, exist_ok=True)\n",
    "joblib.dump(rf_model, os.path.join(models_dir, 'rf_model.pkl'))"
   ]
  },
  {
   "cell_type": "code",
   "execution_count": 12,
   "id": "7a04f4d7",
   "metadata": {},
   "outputs": [
    {
     "name": "stdout",
     "output_type": "stream",
     "text": [
      "Train Accuracy: 0.9908505591324974\n",
      "Test Accuracy: 0.9864468037045403\n",
      "Saving model to: c:\\Users\\hp\\Desktop\\NewsGuard\\models\\saved_model.pkl\n",
      "Saving vectorizer to: c:\\Users\\hp\\Desktop\\NewsGuard\\models\\vectorizer.pkl\n"
     ]
    }
   ],
   "source": [
    "import importlib\n",
    "import src.train\n",
    "importlib.reload(src.train)\n",
    "from src.train import train\n",
    "train()"
   ]
  }
 ],
 "metadata": {
  "kernelspec": {
   "display_name": ".venv",
   "language": "python",
   "name": "python3"
  },
  "language_info": {
   "codemirror_mode": {
    "name": "ipython",
    "version": 3
   },
   "file_extension": ".py",
   "mimetype": "text/x-python",
   "name": "python",
   "nbconvert_exporter": "python",
   "pygments_lexer": "ipython3",
   "version": "3.13.5"
  }
 },
 "nbformat": 4,
 "nbformat_minor": 5
}
