{
 "cells": [
  {
   "cell_type": "code",
   "execution_count": null,
   "id": "eb9c5b3f",
   "metadata": {},
   "outputs": [],
   "source": [
    "from src.data_preprocessing import load_and_preprocess\n",
    "\n",
    "# Preprocess data and save to processed_data.csv\n",
    "data = load_and_preprocess()\n",
    "print(\"Processed Data:\")\n",
    "print(data.head())\n",
    "print(\"\\nData Info:\")\n",
    "print(data.info())"
   ]
  }
 ],
 "metadata": {
  "language_info": {
   "name": "python"
  }
 },
 "nbformat": 4,
 "nbformat_minor": 5
}
